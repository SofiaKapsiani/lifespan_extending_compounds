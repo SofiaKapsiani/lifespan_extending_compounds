{
 "cells": [
  {
   "cell_type": "markdown",
   "metadata": {},
   "source": [
    "# Introduction "
   ]
  },
  {
   "cell_type": "markdown",
   "metadata": {},
   "source": [
    "This notebook was used for building the random forest classifier with molecular descriptors (MD) in the “Random forest classification for predicting lifespan-extending chemical compounds” paper.\n",
    "\n",
    "Please run in Python 3."
   ]
  },
  {
   "cell_type": "code",
   "execution_count": 1,
   "metadata": {},
   "outputs": [],
   "source": [
    "import numpy as np\n",
    "import pandas as pd\n",
    "\n",
    "#splitting data into train and test, cross-validation\n",
    "from sklearn.model_selection import train_test_split, StratifiedKFold, cross_val_score, cross_val_predict\n",
    "\n",
    "#removing variance\n",
    "from sklearn.feature_selection import VarianceThreshold\n",
    "\n",
    "#Random Forest\n",
    "from sklearn.ensemble import RandomForestClassifier\n",
    "import statistics\n",
    "import math\n",
    "import random \n",
    "\n",
    "#Adjusted Mutual Information\n",
    "from sklearn.metrics.cluster import adjusted_mutual_info_score\n",
    "\n",
    "#visualisation\n",
    "import seaborn as sns\n",
    "import matplotlib.pylab as plt\n",
    "\n",
    "#PCA\n",
    "from sklearn.preprocessing import StandardScaler\n",
    "from sklearn.decomposition import PCA\n",
    "\n",
    "# confusion matrix, AUC\n",
    "from sklearn.metrics import classification_report, confusion_matrix, roc_auc_score, accuracy_score, balanced_accuracy_score\n",
    "from sklearn.model_selection import RandomizedSearchCV\n",
    "from sklearn import metrics\n"
   ]
  },
  {
   "cell_type": "code",
   "execution_count": 2,
   "metadata": {},
   "outputs": [
    {
     "data": {
      "text/html": [
       "<div>\n",
       "<style scoped>\n",
       "    .dataframe tbody tr th:only-of-type {\n",
       "        vertical-align: middle;\n",
       "    }\n",
       "\n",
       "    .dataframe tbody tr th {\n",
       "        vertical-align: top;\n",
       "    }\n",
       "\n",
       "    .dataframe thead th {\n",
       "        text-align: right;\n",
       "    }\n",
       "</style>\n",
       "<table border=\"1\" class=\"dataframe\">\n",
       "  <thead>\n",
       "    <tr style=\"text-align: right;\">\n",
       "      <th></th>\n",
       "      <th>Standardised_Smiles</th>\n",
       "      <th>AM1_E</th>\n",
       "      <th>AM1_Eele</th>\n",
       "      <th>AM1_HF</th>\n",
       "      <th>AM1_HOMO</th>\n",
       "      <th>AM1_IP</th>\n",
       "      <th>AM1_LUMO</th>\n",
       "      <th>AM1_dipole</th>\n",
       "      <th>ASA</th>\n",
       "      <th>ASA+</th>\n",
       "      <th>...</th>\n",
       "      <th>vsurf_Wp3</th>\n",
       "      <th>vsurf_Wp4</th>\n",
       "      <th>vsurf_Wp5</th>\n",
       "      <th>vsurf_Wp6</th>\n",
       "      <th>vsurf_Wp7</th>\n",
       "      <th>vsurf_Wp8</th>\n",
       "      <th>weinerPath</th>\n",
       "      <th>weinerPol</th>\n",
       "      <th>zagreb</th>\n",
       "      <th>Target</th>\n",
       "    </tr>\n",
       "  </thead>\n",
       "  <tbody>\n",
       "    <tr>\n",
       "      <th>0</th>\n",
       "      <td>Oc1c(Cl)cc(Cl)cc1Sc1cc(Cl)cc(Cl)c1O</td>\n",
       "      <td>-91061.594</td>\n",
       "      <td>-490900.38</td>\n",
       "      <td>-54.180599</td>\n",
       "      <td>-9.08072</td>\n",
       "      <td>9.08072</td>\n",
       "      <td>-0.86114</td>\n",
       "      <td>1.984315</td>\n",
       "      <td>493.96982</td>\n",
       "      <td>116.66142</td>\n",
       "      <td>...</td>\n",
       "      <td>59.125</td>\n",
       "      <td>3.750</td>\n",
       "      <td>0.75</td>\n",
       "      <td>0.000</td>\n",
       "      <td>0.000</td>\n",
       "      <td>0.0</td>\n",
       "      <td>688</td>\n",
       "      <td>30</td>\n",
       "      <td>98</td>\n",
       "      <td>0</td>\n",
       "    </tr>\n",
       "    <tr>\n",
       "      <th>1</th>\n",
       "      <td>CCCCCC1C(=O)CCC1CC(=O)O</td>\n",
       "      <td>-64010.746</td>\n",
       "      <td>-377504.44</td>\n",
       "      <td>-181.891950</td>\n",
       "      <td>-10.37975</td>\n",
       "      <td>10.37975</td>\n",
       "      <td>0.76110</td>\n",
       "      <td>1.842890</td>\n",
       "      <td>458.93463</td>\n",
       "      <td>320.75201</td>\n",
       "      <td>...</td>\n",
       "      <td>31.375</td>\n",
       "      <td>6.625</td>\n",
       "      <td>2.75</td>\n",
       "      <td>0.625</td>\n",
       "      <td>0.125</td>\n",
       "      <td>0.0</td>\n",
       "      <td>400</td>\n",
       "      <td>17</td>\n",
       "      <td>68</td>\n",
       "      <td>0</td>\n",
       "    </tr>\n",
       "    <tr>\n",
       "      <th>2</th>\n",
       "      <td>Cc1cc(=O)n(-c2ccccc2)n1C</td>\n",
       "      <td>-53151.840</td>\n",
       "      <td>-302296.66</td>\n",
       "      <td>64.051399</td>\n",
       "      <td>-8.76044</td>\n",
       "      <td>8.76044</td>\n",
       "      <td>-0.17180</td>\n",
       "      <td>4.432582</td>\n",
       "      <td>392.48480</td>\n",
       "      <td>232.39806</td>\n",
       "      <td>...</td>\n",
       "      <td>16.000</td>\n",
       "      <td>0.000</td>\n",
       "      <td>0.00</td>\n",
       "      <td>0.000</td>\n",
       "      <td>0.000</td>\n",
       "      <td>0.0</td>\n",
       "      <td>284</td>\n",
       "      <td>20</td>\n",
       "      <td>72</td>\n",
       "      <td>0</td>\n",
       "    </tr>\n",
       "    <tr>\n",
       "      <th>3</th>\n",
       "      <td>O=C(C=CC=Cc1ccc2c(c1)OCO2)N1CCCCC1</td>\n",
       "      <td>-83131.195</td>\n",
       "      <td>-527420.63</td>\n",
       "      <td>-51.748039</td>\n",
       "      <td>-8.66869</td>\n",
       "      <td>8.66869</td>\n",
       "      <td>-0.80507</td>\n",
       "      <td>2.895411</td>\n",
       "      <td>548.17822</td>\n",
       "      <td>370.79236</td>\n",
       "      <td>...</td>\n",
       "      <td>20.000</td>\n",
       "      <td>0.000</td>\n",
       "      <td>0.00</td>\n",
       "      <td>0.000</td>\n",
       "      <td>0.000</td>\n",
       "      <td>0.0</td>\n",
       "      <td>1131</td>\n",
       "      <td>27</td>\n",
       "      <td>106</td>\n",
       "      <td>0</td>\n",
       "    </tr>\n",
       "    <tr>\n",
       "      <th>4</th>\n",
       "      <td>O=c1ccc2cc(OC3OC(CO)C(O)C(O)C3O)c(O)cc2o1</td>\n",
       "      <td>-115882.230</td>\n",
       "      <td>-774507.50</td>\n",
       "      <td>-348.088130</td>\n",
       "      <td>-9.29644</td>\n",
       "      <td>9.29644</td>\n",
       "      <td>-1.18028</td>\n",
       "      <td>4.948146</td>\n",
       "      <td>522.75287</td>\n",
       "      <td>310.44724</td>\n",
       "      <td>...</td>\n",
       "      <td>94.625</td>\n",
       "      <td>18.375</td>\n",
       "      <td>4.75</td>\n",
       "      <td>0.625</td>\n",
       "      <td>0.000</td>\n",
       "      <td>0.0</td>\n",
       "      <td>1339</td>\n",
       "      <td>42</td>\n",
       "      <td>128</td>\n",
       "      <td>0</td>\n",
       "    </tr>\n",
       "  </tbody>\n",
       "</table>\n",
       "<p>5 rows × 356 columns</p>\n",
       "</div>"
      ],
      "text/plain": [
       "                         Standardised_Smiles       AM1_E   AM1_Eele  \\\n",
       "0        Oc1c(Cl)cc(Cl)cc1Sc1cc(Cl)cc(Cl)c1O  -91061.594 -490900.38   \n",
       "1                    CCCCCC1C(=O)CCC1CC(=O)O  -64010.746 -377504.44   \n",
       "2                   Cc1cc(=O)n(-c2ccccc2)n1C  -53151.840 -302296.66   \n",
       "3         O=C(C=CC=Cc1ccc2c(c1)OCO2)N1CCCCC1  -83131.195 -527420.63   \n",
       "4  O=c1ccc2cc(OC3OC(CO)C(O)C(O)C3O)c(O)cc2o1 -115882.230 -774507.50   \n",
       "\n",
       "       AM1_HF  AM1_HOMO    AM1_IP  AM1_LUMO  AM1_dipole        ASA       ASA+  \\\n",
       "0  -54.180599  -9.08072   9.08072  -0.86114    1.984315  493.96982  116.66142   \n",
       "1 -181.891950 -10.37975  10.37975   0.76110    1.842890  458.93463  320.75201   \n",
       "2   64.051399  -8.76044   8.76044  -0.17180    4.432582  392.48480  232.39806   \n",
       "3  -51.748039  -8.66869   8.66869  -0.80507    2.895411  548.17822  370.79236   \n",
       "4 -348.088130  -9.29644   9.29644  -1.18028    4.948146  522.75287  310.44724   \n",
       "\n",
       "   ...  vsurf_Wp3  vsurf_Wp4  vsurf_Wp5  vsurf_Wp6  vsurf_Wp7  vsurf_Wp8  \\\n",
       "0  ...     59.125      3.750       0.75      0.000      0.000        0.0   \n",
       "1  ...     31.375      6.625       2.75      0.625      0.125        0.0   \n",
       "2  ...     16.000      0.000       0.00      0.000      0.000        0.0   \n",
       "3  ...     20.000      0.000       0.00      0.000      0.000        0.0   \n",
       "4  ...     94.625     18.375       4.75      0.625      0.000        0.0   \n",
       "\n",
       "   weinerPath  weinerPol  zagreb  Target  \n",
       "0         688         30      98       0  \n",
       "1         400         17      68       0  \n",
       "2         284         20      72       0  \n",
       "3        1131         27     106       0  \n",
       "4        1339         42     128       0  \n",
       "\n",
       "[5 rows x 356 columns]"
      ]
     },
     "metadata": {},
     "output_type": "display_data"
    },
    {
     "name": "stdout",
     "output_type": "stream",
     "text": [
      "number of compounds: 1430 , number of features: 356\n"
     ]
    }
   ],
   "source": [
    "# import data\n",
    "\n",
    "data = pd.read_csv(\"../data/df_descriptors.csv\", encoding = \"ISO-8859-1\")\n",
    "display(data.head())\n",
    "print(\"number of compounds:\", data.shape[0], \", number of features:\", data.shape[1])"
   ]
  },
  {
   "cell_type": "code",
   "execution_count": 3,
   "metadata": {},
   "outputs": [],
   "source": [
    "# define X (features) and y (target)\n",
    "X = data.iloc[:, 1:-1]\n",
    "y = data.iloc[:, -1]"
   ]
  },
  {
   "cell_type": "markdown",
   "metadata": {},
   "source": [
    "# Chemical Space Visualisation"
   ]
  },
  {
   "cell_type": "code",
   "execution_count": 4,
   "metadata": {},
   "outputs": [],
   "source": [
    "# standardize features for PCA\n",
    "descriptors_std = StandardScaler().fit_transform(X)"
   ]
  },
  {
   "cell_type": "code",
   "execution_count": 5,
   "metadata": {},
   "outputs": [
    {
     "name": "stdout",
     "output_type": "stream",
     "text": [
      "(1430, 2)\n"
     ]
    }
   ],
   "source": [
    "pca = PCA(n_components=2)\n",
    "res = pca.fit_transform(descriptors_std)\n",
    "print(res.shape)"
   ]
  },
  {
   "cell_type": "code",
   "execution_count": 6,
   "metadata": {},
   "outputs": [
    {
     "data": {
      "text/html": [
       "<div>\n",
       "<style scoped>\n",
       "    .dataframe tbody tr th:only-of-type {\n",
       "        vertical-align: middle;\n",
       "    }\n",
       "\n",
       "    .dataframe tbody tr th {\n",
       "        vertical-align: top;\n",
       "    }\n",
       "\n",
       "    .dataframe thead th {\n",
       "        text-align: right;\n",
       "    }\n",
       "</style>\n",
       "<table border=\"1\" class=\"dataframe\">\n",
       "  <thead>\n",
       "    <tr style=\"text-align: right;\">\n",
       "      <th></th>\n",
       "      <th>PC_1</th>\n",
       "      <th>PC_2</th>\n",
       "      <th>Target</th>\n",
       "    </tr>\n",
       "  </thead>\n",
       "  <tbody>\n",
       "    <tr>\n",
       "      <th>0</th>\n",
       "      <td>-2.815871</td>\n",
       "      <td>-3.917015</td>\n",
       "      <td>0</td>\n",
       "    </tr>\n",
       "    <tr>\n",
       "      <th>1</th>\n",
       "      <td>-4.978448</td>\n",
       "      <td>-0.271778</td>\n",
       "      <td>0</td>\n",
       "    </tr>\n",
       "    <tr>\n",
       "      <th>2</th>\n",
       "      <td>-8.871983</td>\n",
       "      <td>-4.891291</td>\n",
       "      <td>0</td>\n",
       "    </tr>\n",
       "    <tr>\n",
       "      <th>3</th>\n",
       "      <td>-1.270698</td>\n",
       "      <td>-6.003349</td>\n",
       "      <td>0</td>\n",
       "    </tr>\n",
       "    <tr>\n",
       "      <th>4</th>\n",
       "      <td>3.756103</td>\n",
       "      <td>10.166345</td>\n",
       "      <td>0</td>\n",
       "    </tr>\n",
       "  </tbody>\n",
       "</table>\n",
       "</div>"
      ],
      "text/plain": [
       "       PC_1       PC_2  Target\n",
       "0 -2.815871  -3.917015       0\n",
       "1 -4.978448  -0.271778       0\n",
       "2 -8.871983  -4.891291       0\n",
       "3 -1.270698  -6.003349       0\n",
       "4  3.756103  10.166345       0"
      ]
     },
     "metadata": {},
     "output_type": "display_data"
    }
   ],
   "source": [
    "principal = pd.DataFrame(data = res, columns = ['PC_1', 'PC_2'])\n",
    "\n",
    "finalPCA = pd.concat([principal,  data[['Target']]], axis = 1)\n",
    "display(finalPCA.head())"
   ]
  },
  {
   "cell_type": "code",
   "execution_count": 7,
   "metadata": {},
   "outputs": [
    {
     "data": {
      "image/png": "[encoded data removed]",
      "text/plain": [
       "<Figure size 432x360 with 1 Axes>"
      ]
     },
     "metadata": {},
     "output_type": "display_data"
    }
   ],
   "source": [
    "sns.set(rc={'figure.figsize':(6, 5)}, font_scale = 1.2)\n",
    "sns.set_style(\"white\")\n",
    "\n",
    "\n",
    "colours = 'silver', 'steelblue'\n",
    "\n",
    "ax = sns.scatterplot(data=finalPCA, x='PC_1', y='PC_2', hue = 'Target', palette= colours)\n",
    "\n",
    "plt.ylabel('PC 1',fontsize=16)\n",
    "plt.xlabel('PC 2',fontsize=16)\n",
    "plt.title('Chemical Space (MD)', fontsize= 18)\n",
    "        \n",
    "plt.show()"
   ]
  },
  {
   "cell_type": "markdown",
   "metadata": {},
   "source": [
    "# Data Pre-Processing"
   ]
  },
  {
   "cell_type": "markdown",
   "metadata": {},
   "source": [
    "### Creating Training and Test Set "
   ]
  },
  {
   "cell_type": "code",
   "execution_count": 8,
   "metadata": {},
   "outputs": [
    {
     "name": "stdout",
     "output_type": "stream",
     "text": [
      "X_train:(1144, 354)\n",
      "y_train:(1144,) \n",
      "\n",
      "X_test:(286, 354)\n",
      "y_test:(286,)\n"
     ]
    }
   ],
   "source": [
    "# split dataset into train and test set\n",
    "X_train, X_test, y_train, y_test = train_test_split(X, y, test_size=0.2, random_state= 1)\n",
    "print(\"X_train:{}\".format(X_train.shape))\n",
    "print(\"y_train:{}\".format(y_train.shape), \"\\n\")\n",
    "print(\"X_test:{}\".format(X_test.shape))\n",
    "print(\"y_test:{}\".format(y_test.shape))"
   ]
  },
  {
   "cell_type": "markdown",
   "metadata": {},
   "source": [
    "### Remove variance"
   ]
  },
  {
   "cell_type": "code",
   "execution_count": 9,
   "metadata": {},
   "outputs": [],
   "source": [
    "# function for removing features with low variance\n",
    "def get_variance(df, threshold):\n",
    "    sel = VarianceThreshold(threshold = (threshold))\n",
    "    var_norm = sel.fit_transform(X_train)\n",
    "    features = sel.get_support(indices = True) \n",
    "    colname = X_train.columns[features]\n",
    "    var = pd.DataFrame(data = var_norm)\n",
    "    var.columns = colname\n",
    "    return (var)"
   ]
  },
  {
   "cell_type": "code",
   "execution_count": 10,
   "metadata": {},
   "outputs": [
    {
     "data": {
      "text/plain": [
       "'X_var_100: (1144, 349)'"
      ]
     },
     "metadata": {},
     "output_type": "display_data"
    },
    {
     "data": {
      "text/plain": [
       "'X_var_95: (1144, 289)'"
      ]
     },
     "metadata": {},
     "output_type": "display_data"
    },
    {
     "data": {
      "text/plain": [
       "'X_var_90: (1144, 277)'"
      ]
     },
     "metadata": {},
     "output_type": "display_data"
    }
   ],
   "source": [
    "# creating three subdatabases which removes features with (i) 100% (ii) 95% and (iii) 90% constant values\n",
    "X_var_100 = get_variance(X_train,1 *(1- 1))\n",
    "X_var_95 = get_variance(X_train, 0.95 *(1- 0.95))\n",
    "X_var_90 = get_variance(X_train, 0.90 *(1- 0.90))\n",
    "\n",
    "display(\"X_var_100: {}\".format(X_var_100.shape))\n",
    "display(\"X_var_95: {}\".format(X_var_95.shape))\n",
    "display(\"X_var_90: {}\".format(X_var_90.shape))"
   ]
  },
  {
   "cell_type": "markdown",
   "metadata": {},
   "source": [
    "# Feature Selection"
   ]
  },
  {
   "cell_type": "code",
   "execution_count": 11,
   "metadata": {},
   "outputs": [],
   "source": [
    "# function for sorting features based on highest adjusted mutual information scores with target\n",
    "def highest_ami(X_var, percentage): \n",
    "    \n",
    "    # initiate empty list to store adjusted mutual information (ami) values\n",
    "    ami = []\n",
    "    \n",
    "    # calculate ami score between each feature and target\n",
    "    for v in range (0, X_var.shape[1]):\n",
    "        ami.append(adjusted_mutual_info_score(X_var.iloc[:, v], y_train, average_method= \"arithmetic\"))\n",
    "\n",
    "    # sort ami scores in descending order\n",
    "    ami_sorted= sorted([(x,i) for (i,x) in enumerate(ami)], reverse=True)\n",
    "    # extract feature ids\n",
    "    ami_feature_ids = [ami_sorted[i][1] for i in range(0, len(ami_sorted))]\n",
    "\n",
    "    # return percentage of features with highest ami values\n",
    "    m = round(X_var.shape[1]*percentage)\n",
    "    features = ami_feature_ids[:m]\n",
    "    X_selected = X_var.iloc[:, features]\n",
    "    \n",
    "    return(X_selected)"
   ]
  },
  {
   "cell_type": "code",
   "execution_count": 12,
   "metadata": {},
   "outputs": [],
   "source": [
    "# ignore warning\n",
    "import warnings\n",
    "warnings.filterwarnings(\"ignore\", category=UserWarning)\n",
    "\n",
    "# initiate empty lists to store ami values for var_100, var_95 and var_90\n",
    "var_100= []\n",
    "var_95= []\n",
    "var_90= []\n",
    "\n",
    "# Create total of 18 sub-databases consisting of 5%, 10%, 25%, 50%, 75% and 100% of the features with the highest AMI score for each of Var_100, Var_95 and Var_90\n",
    "for i in (0.05, 0.1, 0.25, 0.5, 0.75, 1):\n",
    "    var_100.append(highest_ami(X_var_100, i))\n",
    "    var_95.append(highest_ami(X_var_95, i))\n",
    "    var_90.append(highest_ami(X_var_90, i))"
   ]
  },
  {
   "cell_type": "markdown",
   "metadata": {},
   "source": [
    "## Cross-validation"
   ]
  },
  {
   "cell_type": "code",
   "execution_count": 13,
   "metadata": {},
   "outputs": [],
   "source": [
    "def cross_validation (num_splits, X, y, n_estimators =100, random_state =1):\n",
    "    \n",
    "    # initiate stratified k-fold cross validation\n",
    "    sfk = StratifiedKFold(n_splits = num_splits, shuffle=True, random_state= random_state)\n",
    "    \n",
    "    #  initiate random forest classifier with balanced class weights (remaining parameters are default settings) \n",
    "    rf = RandomForestClassifier(n_estimators = n_estimators, random_state= random_state, \n",
    "                                class_weight = 'balanced')\n",
    "    # perform cross-validation and get area under the ROC curve scores\n",
    "    rfc_cv_score = cross_val_score(rf, X, y, cv= sfk, scoring='roc_auc')\n",
    "\n",
    "    return (rfc_cv_score)"
   ]
  },
  {
   "cell_type": "code",
   "execution_count": null,
   "metadata": {},
   "outputs": [],
   "source": [
    "# perform 10 fold cross-validation\n",
    "var_100_mi = []\n",
    "var_95_mi = []\n",
    "var_90_mi = []\n",
    "\n",
    "for i in range (0, 6):\n",
    "    var_100_mi.append(cross_validation (10, var_100[i], y_train))\n",
    "    var_95_mi.append(cross_validation (10,  var_95[i], y_train))\n",
    "    var_90_mi.append(cross_validation (10, var_90[i], y_train))"
   ]
  },
  {
   "cell_type": "markdown",
   "metadata": {},
   "source": [
    "## Heatmap"
   ]
  },
  {
   "cell_type": "code",
   "execution_count": null,
   "metadata": {},
   "outputs": [],
   "source": [
    "def heatmap(var, name1,name2, name3):\n",
    "    var_hm = pd.DataFrame(data = var)\n",
    "    # calculate median auc score and standard deviation for each fold of the 10-fold cross-validation\n",
    "    data_hm = pd.concat([var_hm.T.median(), var_hm.T.std()], axis = 1).round(3)\n",
    "    data_hm.columns = [name1, name2]\n",
    "    data_hm.index =[\"5% (MD)\", \"10% (MD)\", \"25% (MD)\", \n",
    "                                   \"50% (MD)\", \"75% (MD)\" , \"100% (MD)\"]\n",
    "    \n",
    "    data_hm[name3] = data_hm[name1].map(str) + str(\" +/- \") + data_hm[name2].map(str)\n",
    "    return(data_hm.round(3))"
   ]
  },
  {
   "cell_type": "code",
   "execution_count": null,
   "metadata": {},
   "outputs": [],
   "source": [
    "# get list of median auc score and stdev of the 10-fold cross-validation for each of the 18 sub-databases\n",
    "var_100_hm = heatmap(var_100_mi, \"var_100\",\"var_100_std\", \"var_100_all\")\n",
    "var_95_hm = heatmap(var_95_mi, \"var_95\",\"var_95_std\", \"var_95_all\")\n",
    "var_90_hm = heatmap(var_90_mi, \"var_90\",\"var_90_std\", \"var_90_all\")\n",
    "\n",
    "data_hm = pd.concat([var_100_hm, var_95_hm, var_90_hm], axis = 1)\n",
    "\n",
    "# generate heatmap\n",
    "sns.set(rc={'figure.figsize':(16,5)}, font_scale = 1.2)\n",
    "\n",
    "ax = sns.heatmap(data_hm.iloc[:, [0,3,6]],linewidth=0.5, annot = data_hm.iloc[:, [2,5,8]], fmt = '', cmap=\"YlGnBu\")\n",
    "plt.show()"
   ]
  },
  {
   "cell_type": "markdown",
   "metadata": {},
   "source": [
    "## Evaluating Model "
   ]
  },
  {
   "cell_type": "code",
   "execution_count": null,
   "metadata": {},
   "outputs": [],
   "source": [
    "# select model with highest median auc score\n",
    "colums_name= var_90[2].columns\n",
    "# only use selected features in test set\n",
    "X_test_features = X_test[colums_name[:]]\n",
    "\n",
    "# initiare random forest model\n",
    "rf = RandomForestClassifier(n_estimators = 100, random_state= 1, criterion='gini', class_weight = 'balanced')\n",
    "# fit data\n",
    "rf.fit(var_90[2], y_train)\n",
    "# predict y \n",
    "y_score = rf.predict(X_test_features)\n",
    "y_pred_proba = rf.predict_proba(X_test_features)[::,1]\n",
    "\n",
    "# evaluate predictions (y predicted vs y test)\n",
    "print(\"=== Confusion Matrix ===\")\n",
    "CM = confusion_matrix(y_test, y_score)\n",
    "print(CM)\n",
    "print('\\n')\n",
    "print(\"=== Classification Report ===\")\n",
    "print(classification_report(y_test, y_score))\n",
    "print('\\n')\n",
    "print(\"=== AUC Score ===\")\n",
    "print(round(roc_auc_score(y_test, y_pred_proba),3))"
   ]
  },
  {
   "cell_type": "code",
   "execution_count": null,
   "metadata": {},
   "outputs": [],
   "source": [
    "sns.set(rc={'figure.figsize':(8,6)}, font_scale = 1.2)\n",
    "sns.set_style(\"white\")\n",
    "\n",
    "y_pred_proba = rf.predict_proba(X_test_features)[::,1]\n",
    "fpr, tpr, _ = metrics.roc_curve(y_test,  y_pred_proba)\n",
    "roc_auc = metrics.roc_auc_score(y_test, y_pred_proba)\n",
    "\n",
    "plt.title('Receiver Operating Characteristic')\n",
    "plt.plot(fpr, tpr, 'b', label = 'AUC = %0.3f' % roc_auc)\n",
    "plt.legend(loc = 'lower right')\n",
    "plt.plot([0, 1], [0, 1],'r--')\n",
    "plt.xlim([-0.03, 1.03])\n",
    "plt.ylim([-0.03, 1.03])\n",
    "plt.ylabel('True Positive Rate')\n",
    "plt.xlabel('False Positive Rate')\n",
    "plt.show()"
   ]
  },
  {
   "cell_type": "code",
   "execution_count": null,
   "metadata": {},
   "outputs": [],
   "source": [
    "# get features with highest gini importance scores\n",
    "feature_imp = pd.Series(rf.feature_importances_,index=colums_name).sort_values(ascending=False)\n",
    "round(feature_imp.head(30), 3)"
   ]
  }
 ],
 "metadata": {
  "kernelspec": {
   "display_name": "Python 3",
   "language": "python",
   "name": "python3"
  },
  "language_info": {
   "codemirror_mode": {
    "name": "ipython",
    "version": 3
   },
   "file_extension": ".py",
   "mimetype": "text/x-python",
   "name": "python",
   "nbconvert_exporter": "python",
   "pygments_lexer": "ipython3",
   "version": "3.8.8"
  }
 },
 "nbformat": 4,
 "nbformat_minor": 2
}
